{
  "cells": [
    {
      "cell_type": "markdown",
      "metadata": {
        "id": "AETMp2MVgKIn"
      },
      "source": [
        "# **Pipeline 1. The Generator and the Commentator**\n",
        "\n",
        "copyright 2024, Denis Rothman\n",
        "\n",
        "**Notebook summary:**    \n",
        "* Step 1.Displaying the video  \n",
        "* Step 2.Splitting the video into frames  \n",
        "* Step 3.Commenting on the frames   \n",
        "\n",
        "Activate the controller in the **Pipeline 1 controller** section to run the functions, control the output, save the comments, and delete the files.\n"
      ]
    },
    {
      "cell_type": "markdown",
      "metadata": {
        "id": "wMlThlkVTZzt"
      },
      "source": [
        "# Installing the environment"
      ]
    },
    {
      "cell_type": "markdown",
      "metadata": {
        "id": "uEZ5c8wP746F"
      },
      "source": [
        "## Importing modules and libraries"
      ]
    },
    {
      "cell_type": "code",
      "execution_count": 1,
      "metadata": {
        "id": "Z-Rd0Cdp746G"
      },
      "outputs": [],
      "source": [
        "from IPython.display import HTML # to display videos\n",
        "import base64 # to encode videos as base64\n",
        "from base64 import b64encode # to encode videos as base64\n",
        "import os # to interact with the operating system\n",
        "import subprocess # to run commands\n",
        "import time # to measure execution time\n",
        "import csv # to save comments\n",
        "import uuid # to generate unique ids\n",
        "import cv2 # to split videos\n",
        "from PIL import Image # to display videos\n",
        "import pandas as pd # to display comments\n",
        "import numpy as np # to use Numerical Python\n",
        "from io import BytesIO #for a binary stream of data in memory"
      ]
    },
    {
      "cell_type": "markdown",
      "metadata": {
        "id": "Ff-9f0vSTtWJ"
      },
      "source": [
        "## GitHub"
      ]
    },
    {
      "cell_type": "code",
      "execution_count": 2,
      "metadata": {
        "id": "p3hWYlEI3-a8"
      },
      "outputs": [],
      "source": [
        "def download(directory, filename):\n",
        "    # The base URL of the image files in the GitHub repository\n",
        "    base_url = 'https://raw.githubusercontent.com/Denis2054/RAG-Driven-Generative-AI/main/'\n",
        "\n",
        "    # Complete URL for the file\n",
        "    file_url = f\"{base_url}{directory}/{filename}\"\n",
        "\n",
        "    # Use curl to download the file, including an Authorization header for the private token\n",
        "    try:\n",
        "        # Prepare the curl command\n",
        "        curl_command = f'curl -o {filename} {file_url}'\n",
        "\n",
        "        # Execute the curl command\n",
        "        subprocess.run(curl_command, check=True, shell=True)\n",
        "        print(f\"Downloaded '{filename}' successfully.\")\n",
        "    except subprocess.CalledProcessError:\n",
        "        print(f\"Failed to download '{filename}'. Check the URL, your internet connection and the file path\")"
      ]
    },
    {
      "cell_type": "markdown",
      "metadata": {
        "id": "s9VPzFA02q9Z"
      },
      "source": [
        "## OpenAI"
      ]
    },
    {
      "cell_type": "code",
      "execution_count": null,
      "metadata": {
        "colab": {
          "base_uri": "https://localhost:8080/"
        },
        "id": "Eb6gFplQqU5v",
        "outputId": "786d35c3-0720-48b3-8835-40e01f415143"
      },
      "outputs": [
        {
          "name": "stdout",
          "output_type": "stream",
          "text": [
            "Mounted at /content/drive\n"
          ]
        }
      ],
      "source": [
        "#You can retrieve your API key from a file(1)\n",
        "# or enter it manually(2)\n",
        "#Comment this cell if you want to enter your key manually.\n",
        "\n",
        "#(1)Retrieve the API Key from a file\n",
        "#Store you key in a file and read it(you can type it directly in the notebook but it will be visible for somebody next to you)\n",
        "from google.colab import drive\n",
        "drive.mount('/content/drive')\n",
        "f = open(\"drive/MyDrive/files/api_key.txt\", \"r\")\n",
        "API_KEY=f.readline()\n",
        "f.close()"
      ]
    },
    {
      "cell_type": "code",
      "execution_count": null,
      "metadata": {
        "colab": {
          "base_uri": "https://localhost:8080/"
        },
        "collapsed": true,
        "id": "maEF3GMf1We6",
        "outputId": "c575c663-fc71-4837-ca33-9056970e4803"
      },
      "outputs": [
        {
          "name": "stdout",
          "output_type": "stream",
          "text": [
            "Collecting openai==1.45.0\n",
            "  Downloading openai-1.45.0-py3-none-any.whl.metadata (22 kB)\n",
            "Requirement already satisfied: anyio<5,>=3.5.0 in /usr/local/lib/python3.10/dist-packages (from openai==1.45.0) (3.7.1)\n",
            "Requirement already satisfied: distro<2,>=1.7.0 in /usr/lib/python3/dist-packages (from openai==1.45.0) (1.7.0)\n",
            "Collecting httpx<1,>=0.23.0 (from openai==1.45.0)\n",
            "  Downloading httpx-0.27.2-py3-none-any.whl.metadata (7.1 kB)\n",
            "Collecting jiter<1,>=0.4.0 (from openai==1.45.0)\n",
            "  Downloading jiter-0.5.0-cp310-cp310-manylinux_2_17_x86_64.manylinux2014_x86_64.whl.metadata (3.6 kB)\n",
            "Requirement already satisfied: pydantic<3,>=1.9.0 in /usr/local/lib/python3.10/dist-packages (from openai==1.45.0) (2.9.1)\n",
            "Requirement already satisfied: sniffio in /usr/local/lib/python3.10/dist-packages (from openai==1.45.0) (1.3.1)\n",
            "Requirement already satisfied: tqdm>4 in /usr/local/lib/python3.10/dist-packages (from openai==1.45.0) (4.66.5)\n",
            "Requirement already satisfied: typing-extensions<5,>=4.11 in /usr/local/lib/python3.10/dist-packages (from openai==1.45.0) (4.12.2)\n",
            "Requirement already satisfied: idna>=2.8 in /usr/local/lib/python3.10/dist-packages (from anyio<5,>=3.5.0->openai==1.45.0) (3.8)\n",
            "Requirement already satisfied: exceptiongroup in /usr/local/lib/python3.10/dist-packages (from anyio<5,>=3.5.0->openai==1.45.0) (1.2.2)\n",
            "Requirement already satisfied: certifi in /usr/local/lib/python3.10/dist-packages (from httpx<1,>=0.23.0->openai==1.45.0) (2024.8.30)\n",
            "Collecting httpcore==1.* (from httpx<1,>=0.23.0->openai==1.45.0)\n",
            "  Downloading httpcore-1.0.5-py3-none-any.whl.metadata (20 kB)\n",
            "Collecting h11<0.15,>=0.13 (from httpcore==1.*->httpx<1,>=0.23.0->openai==1.45.0)\n",
            "  Downloading h11-0.14.0-py3-none-any.whl.metadata (8.2 kB)\n",
            "Requirement already satisfied: annotated-types>=0.6.0 in /usr/local/lib/python3.10/dist-packages (from pydantic<3,>=1.9.0->openai==1.45.0) (0.7.0)\n",
            "Requirement already satisfied: pydantic-core==2.23.3 in /usr/local/lib/python3.10/dist-packages (from pydantic<3,>=1.9.0->openai==1.45.0) (2.23.3)\n",
            "Downloading openai-1.45.0-py3-none-any.whl (374 kB)\n",
            "\u001b[2K   \u001b[90m━━━━━━━━━━━━━━━━━━━━━━━━━━━━━━━━━━━━━━━━\u001b[0m \u001b[32m374.1/374.1 kB\u001b[0m \u001b[31m7.2 MB/s\u001b[0m eta \u001b[36m0:00:00\u001b[0m\n",
            "\u001b[?25hDownloading httpx-0.27.2-py3-none-any.whl (76 kB)\n",
            "\u001b[2K   \u001b[90m━━━━━━━━━━━━━━━━━━━━━━━━━━━━━━━━━━━━━━━━\u001b[0m \u001b[32m76.4/76.4 kB\u001b[0m \u001b[31m7.2 MB/s\u001b[0m eta \u001b[36m0:00:00\u001b[0m\n",
            "\u001b[?25hDownloading httpcore-1.0.5-py3-none-any.whl (77 kB)\n",
            "\u001b[2K   \u001b[90m━━━━━━━━━━━━━━━━━━━━━━━━━━━━━━━━━━━━━━━━\u001b[0m \u001b[32m77.9/77.9 kB\u001b[0m \u001b[31m7.3 MB/s\u001b[0m eta \u001b[36m0:00:00\u001b[0m\n",
            "\u001b[?25hDownloading jiter-0.5.0-cp310-cp310-manylinux_2_17_x86_64.manylinux2014_x86_64.whl (318 kB)\n",
            "\u001b[2K   \u001b[90m━━━━━━━━━━━━━━━━━━━━━━━━━━━━━━━━━━━━━━━━\u001b[0m \u001b[32m318.9/318.9 kB\u001b[0m \u001b[31m26.9 MB/s\u001b[0m eta \u001b[36m0:00:00\u001b[0m\n",
            "\u001b[?25hDownloading h11-0.14.0-py3-none-any.whl (58 kB)\n",
            "\u001b[2K   \u001b[90m━━━━━━━━━━━━━━━━━━━━━━━━━━━━━━━━━━━━━━━━\u001b[0m \u001b[32m58.3/58.3 kB\u001b[0m \u001b[31m5.1 MB/s\u001b[0m eta \u001b[36m0:00:00\u001b[0m\n",
            "\u001b[?25hInstalling collected packages: jiter, h11, httpcore, httpx, openai\n",
            "Successfully installed h11-0.14.0 httpcore-1.0.5 httpx-0.27.2 jiter-0.5.0 openai-1.45.0\n"
          ]
        }
      ],
      "source": [
        "try:\n",
        "  import openai\n",
        "except:\n",
        "  !pip install openai==1.45.0\n",
        "  import openai"
      ]
    },
    {
      "cell_type": "code",
      "execution_count": null,
      "metadata": {
        "id": "LwacvzYC5ZxQ"
      },
      "outputs": [],
      "source": [
        "#(2) Enter your manually by\n",
        "# replacing API_KEY by your key.\n",
        "#The OpenAI Key\n",
        "os.environ['OPENAI_API_KEY'] =API_KEY\n",
        "openai.api_key = os.getenv(\"OPENAI_API_KEY\")"
      ]
    },
    {
      "cell_type": "markdown",
      "metadata": {
        "id": "GrGaTu7CXXj_"
      },
      "source": [
        "# Step 1.Displaying the video"
      ]
    },
    {
      "cell_type": "code",
      "execution_count": null,
      "metadata": {
        "id": "3G2JjwtGaOYj"
      },
      "outputs": [],
      "source": [
        "# Open the file in binary mode\n",
        "def display_video(file_name):\n",
        "  with open(file_name, 'rb') as file:\n",
        "      video_data = file.read()\n",
        "\n",
        "  # Encode the video file as base64\n",
        "  video_url = b64encode(video_data).decode()\n",
        "\n",
        "  # Create an HTML string with the embedded video\n",
        "  html = f'''\n",
        "  <video width=\"640\" height=\"480\" controls>\n",
        "    <source src=\"data:video/mp4;base64,{video_url}\" type=\"video/mp4\">\n",
        "  Your browser does not support the video tag.\n",
        "  </video>\n",
        "  '''\n",
        "  # Display the video\n",
        "  HTML(html)\n",
        "  # Return the HTML object\n",
        "  return HTML(html)"
      ]
    },
    {
      "cell_type": "markdown",
      "metadata": {
        "id": "TkhtkgAAxEmL"
      },
      "source": [
        "# Step 2.Splitting a video into frames\n",
        "\n",
        "\n"
      ]
    },
    {
      "cell_type": "code",
      "execution_count": null,
      "metadata": {
        "id": "VU0e6MSiy7fD"
      },
      "outputs": [],
      "source": [
        "def split_file(file_name):\n",
        "  video_path = file_name\n",
        "  cap = cv2.VideoCapture(video_path)\n",
        "\n",
        "  frame_number = 0\n",
        "  while cap.isOpened():\n",
        "      ret, frame = cap.read()\n",
        "      if not ret:\n",
        "          break\n",
        "\n",
        "      cv2.imwrite(f\"frame_{frame_number}.jpg\", frame)\n",
        "      frame_number += 1\n",
        "      print(f\"Frame {frame_number} saved.\")\n",
        "\n",
        "  cap.release()"
      ]
    },
    {
      "cell_type": "markdown",
      "metadata": {
        "id": "h1E8ejYl5LeW"
      },
      "source": [
        "# Step 3.Commenting on the frames"
      ]
    },
    {
      "cell_type": "code",
      "execution_count": null,
      "metadata": {
        "id": "jOUhGKwO4QF_"
      },
      "outputs": [],
      "source": [
        "def generate_comment(response_data):\n",
        "    \"\"\"Extract relevant information from GPT-4 Vision response.\"\"\"\n",
        "    try:\n",
        "        caption = response_data.choices[0].message.content\n",
        "        return caption\n",
        "    except (KeyError, AttributeError):\n",
        "        print(\"Error extracting caption from response.\")\n",
        "        return \"No caption available.\""
      ]
    },
    {
      "cell_type": "code",
      "execution_count": null,
      "metadata": {
        "id": "aQ1HryYOlOZb"
      },
      "outputs": [],
      "source": [
        "def save_comment(comment, frame_number, file_name):\n",
        "    \"\"\"Save the comment to a text file formatted for seamless loading into a pandas DataFrame.\"\"\"\n",
        "    # Append .csv to the provided file name to create the complete file name\n",
        "    path = f\"{file_name}.csv\"\n",
        "\n",
        "    # Check if the file exists to determine if we need to write headers\n",
        "    write_header = not os.path.exists(path)\n",
        "\n",
        "    with open(path, 'a', newline='') as f:\n",
        "        writer = csv.writer(f, delimiter=',', quotechar='\"', quoting=csv.QUOTE_MINIMAL)\n",
        "        if write_header:\n",
        "            writer.writerow(['ID', 'FrameNumber', 'Comment', 'FileName'])  # Write the header if the file is being created\n",
        "        # Generate a unique UUID for each comment\n",
        "        unique_id = str(uuid.uuid4())\n",
        "        # Write the data\n",
        "        writer.writerow([unique_id, frame_number, comment, file_name])\n"
      ]
    },
    {
      "cell_type": "code",
      "execution_count": null,
      "metadata": {
        "id": "3rPfXOykVziC"
      },
      "outputs": [],
      "source": [
        "import base64\n",
        "import requests\n",
        "\n",
        "def generate_openai_comments(filename):\n",
        "  video_folder = \"/content\"  # Folder containing your image frames\n",
        "  total_frames = len([file for file in os.listdir(video_folder) if file.endswith('.jpg')])\n",
        "\n",
        "  nb=3      # sample frequency\n",
        "  counter=0 #sample frequency counter\n",
        "  for frame_number in range(total_frames):\n",
        "      counter+=1 # sampler\n",
        "      if counter==nb and counter<total_frames:\n",
        "        counter=0\n",
        "        print(f\"Analyzing frame {frame_number}...\")\n",
        "        image_path = os.path.join(video_folder, f\"frame_{frame_number}.jpg\")\n",
        "        try:\n",
        "            with open(image_path, \"rb\") as image_file:\n",
        "                base64_image=base64.b64encode(image_file.read()).decode('utf-8')\n",
        "            #with open(image_path, \"rb\") as image_file:\n",
        "                #image_data = image_file.read()\n",
        "\n",
        "                response = openai.chat.completions.create(\n",
        "                    model=\"gpt-4o\",\n",
        "                    messages=[\n",
        "                        {\n",
        "                            \"role\": \"user\",\n",
        "                            \"content\": [\n",
        "                                {\"type\": \"text\", \"text\": \"What is happening in this image?\"},\n",
        "                                {\n",
        "                                    \"type\": \"image_url\",\n",
        "                                    \"image_url\": {\"url\": f\"data:image/jpeg;base64,{base64_image}\"}\n",
        "                                    #\"image_url\": f\"data:image/jpeg;base64,{base64.b64encode(image_data).decode('utf-8')}\"\n",
        "                                },\n",
        "                            ],\n",
        "                       }\n",
        "                    ],\n",
        "                    max_tokens=150,\n",
        "               )\n",
        "            comment = generate_comment(response)\n",
        "            save_comment(comment, frame_number,filename)\n",
        "\n",
        "        except FileNotFoundError:\n",
        "            print(f\"Error: Frame {frame_number} not found.\")\n",
        "        except Exception as e:\n",
        "            print(f\"Unexpected error: {e}\")"
      ]
    },
    {
      "cell_type": "markdown",
      "metadata": {
        "id": "OXzeLsL9N-j8"
      },
      "source": [
        "### Displaying the comments"
      ]
    },
    {
      "cell_type": "code",
      "execution_count": null,
      "metadata": {
        "collapsed": true,
        "id": "bTKbZq4M3Luz"
      },
      "outputs": [],
      "source": [
        "# Read the video comments file into a pandas DataFrame\n",
        "def display_comments(file_name):\n",
        "  # Append .csv to the provided file name to create the complete file name\n",
        "  path = f\"{file_name}.csv\"\n",
        "  df = pd.read_csv(path)\n",
        "  return df"
      ]
    },
    {
      "cell_type": "markdown",
      "metadata": {
        "id": "yejcDTgST9xO"
      },
      "source": [
        "# Pipeline 1 controller"
      ]
    },
    {
      "cell_type": "code",
      "execution_count": null,
      "metadata": {
        "colab": {
          "base_uri": "https://localhost:8080/"
        },
        "id": "RAV9jSAUIFRe",
        "outputId": "e9d121e7-4eee-40ea-e1b1-132623cf851c"
      },
      "outputs": [
        {
          "name": "stdout",
          "output_type": "stream",
          "text": [
            "Step 1: Displaying the video\n",
            "Selecting the video\n",
            "Video: alpinist1.mp4\n",
            "2.Downloading video: downloading from GitHub\n",
            "Downloaded 'alpinist1.mp4' successfully.\n",
            "2.Downloading video: displaying video\n",
            "Splitting the video\n",
            "Frame 1 saved.\n",
            "Frame 2 saved.\n",
            "Frame 3 saved.\n",
            "Frame 4 saved.\n",
            "Frame 5 saved.\n",
            "Frame 6 saved.\n",
            "Frame 7 saved.\n",
            "Frame 8 saved.\n",
            "Frame 9 saved.\n",
            "Frame 10 saved.\n",
            "Frame 11 saved.\n",
            "Frame 12 saved.\n",
            "Frame 13 saved.\n",
            "Frame 14 saved.\n",
            "Frame 15 saved.\n",
            "Frame 16 saved.\n",
            "Frame 17 saved.\n",
            "Frame 18 saved.\n",
            "Frame 19 saved.\n",
            "Frame 20 saved.\n",
            "Frame 21 saved.\n",
            "Frame 22 saved.\n",
            "Frame 23 saved.\n",
            "Frame 24 saved.\n",
            "Frame 25 saved.\n",
            "Frame 26 saved.\n",
            "Frame 27 saved.\n",
            "Frame 28 saved.\n",
            "Frame 29 saved.\n",
            "Frame 30 saved.\n",
            "Frame 31 saved.\n",
            "Frame 32 saved.\n",
            "Frame 33 saved.\n",
            "Frame 34 saved.\n",
            "Frame 35 saved.\n",
            "Frame 36 saved.\n",
            "Frame 37 saved.\n",
            "Frame 38 saved.\n",
            "Frame 39 saved.\n",
            "Frame 40 saved.\n",
            "Frame 41 saved.\n",
            "Frame 42 saved.\n",
            "Frame 43 saved.\n",
            "Frame 44 saved.\n",
            "Frame 45 saved.\n",
            "Frame 46 saved.\n",
            "Frame 47 saved.\n",
            "Frame 48 saved.\n",
            "Frame 49 saved.\n",
            "Frame 50 saved.\n",
            "Frame 51 saved.\n",
            "Frame 52 saved.\n",
            "Frame 53 saved.\n",
            "Frame 54 saved.\n",
            "Frame 55 saved.\n",
            "Frame 56 saved.\n",
            "Frame 57 saved.\n",
            "Frame 58 saved.\n",
            "Frame 59 saved.\n",
            "Frame 60 saved.\n",
            "Frame 61 saved.\n",
            "Frame 62 saved.\n",
            "Frame 63 saved.\n",
            "Frame 64 saved.\n",
            "Frame 65 saved.\n",
            "Frame 66 saved.\n",
            "Frame 67 saved.\n",
            "Frame 68 saved.\n",
            "Frame 69 saved.\n",
            "Frame 70 saved.\n",
            "Frame 71 saved.\n",
            "Frame 72 saved.\n",
            "Frame 73 saved.\n",
            "Frame 74 saved.\n",
            "Frame 75 saved.\n",
            "Frame 76 saved.\n",
            "Frame 77 saved.\n",
            "Frame 78 saved.\n",
            "Frame 79 saved.\n",
            "Frame 80 saved.\n",
            "Frame 81 saved.\n",
            "Frame 82 saved.\n",
            "Frame 83 saved.\n",
            "Frame 84 saved.\n",
            "Frame 85 saved.\n",
            "Frame 86 saved.\n",
            "Frame 87 saved.\n",
            "Frame 88 saved.\n",
            "Frame 89 saved.\n",
            "Frame 90 saved.\n",
            "Frame 91 saved.\n",
            "Frame 92 saved.\n",
            "Frame 93 saved.\n",
            "Frame 94 saved.\n",
            "Frame 95 saved.\n",
            "Frame 96 saved.\n",
            "Frame 97 saved.\n",
            "Frame 98 saved.\n",
            "Frame 99 saved.\n",
            "Frame 100 saved.\n",
            "Frame 101 saved.\n",
            "Frame 102 saved.\n",
            "Frame 103 saved.\n",
            "Frame 104 saved.\n",
            "Frame 105 saved.\n",
            "Frame 106 saved.\n",
            "Frame 107 saved.\n",
            "Frame 108 saved.\n",
            "Frame 109 saved.\n",
            "Frame 110 saved.\n",
            "Frame 111 saved.\n",
            "Frame 112 saved.\n",
            "Frame 113 saved.\n",
            "Frame 114 saved.\n",
            "Frame 115 saved.\n",
            "Frame 116 saved.\n",
            "Frame 117 saved.\n",
            "Frame 118 saved.\n",
            "Frame 119 saved.\n",
            "Frame 120 saved.\n",
            "Frame 121 saved.\n",
            "Frame 122 saved.\n",
            "Frame 123 saved.\n",
            "Frame 124 saved.\n",
            "Frame 125 saved.\n",
            "Frame 126 saved.\n",
            "Frame 127 saved.\n",
            "Frame 128 saved.\n",
            "Frame 129 saved.\n",
            "Frame 130 saved.\n",
            "Frame 131 saved.\n",
            "Frame 132 saved.\n",
            "Frame 133 saved.\n",
            "Frame 134 saved.\n",
            "Frame 135 saved.\n",
            "Frame 136 saved.\n",
            "Frame 137 saved.\n",
            "Frame 138 saved.\n",
            "Frame 139 saved.\n",
            "Frame 140 saved.\n",
            "Frame 141 saved.\n",
            "Frame 142 saved.\n",
            "Frame 143 saved.\n",
            "Frame 144 saved.\n",
            "Frame 145 saved.\n",
            "Frame 146 saved.\n",
            "Frame 147 saved.\n",
            "Frame 148 saved.\n",
            "Frame 149 saved.\n",
            "Frame 150 saved.\n",
            "Frame 151 saved.\n",
            "Frame 152 saved.\n",
            "Frame 153 saved.\n",
            "Frame 154 saved.\n",
            "Frame 155 saved.\n",
            "Frame 156 saved.\n",
            "Frame 157 saved.\n",
            "Frame 158 saved.\n",
            "Frame 159 saved.\n",
            "Frame 160 saved.\n",
            "Frame 161 saved.\n",
            "Frame 162 saved.\n",
            "Frame 163 saved.\n",
            "Frame 164 saved.\n",
            "Frame 165 saved.\n",
            "Frame 166 saved.\n",
            "Frame 167 saved.\n",
            "Frame 168 saved.\n",
            "Frame 169 saved.\n",
            "Frame 170 saved.\n",
            "Frame 171 saved.\n",
            "Frame 172 saved.\n",
            "Frame 173 saved.\n",
            "Frame 174 saved.\n",
            "Frame 175 saved.\n",
            "Frame 176 saved.\n",
            "Frame 177 saved.\n",
            "Frame 178 saved.\n",
            "Frame 179 saved.\n",
            "Frame 180 saved.\n",
            "Frame 181 saved.\n",
            "Frame 182 saved.\n",
            "Frame 183 saved.\n",
            "Frame 184 saved.\n",
            "Frame 185 saved.\n",
            "Frame 186 saved.\n",
            "Frame 187 saved.\n",
            "Frame 188 saved.\n",
            "Frame 189 saved.\n",
            "Frame 190 saved.\n",
            "Frame 191 saved.\n",
            "Frame 192 saved.\n",
            "Frame 193 saved.\n",
            "Frame 194 saved.\n",
            "Frame 195 saved.\n",
            "Frame 196 saved.\n",
            "Frame 197 saved.\n",
            "Frame 198 saved.\n",
            "Frame 199 saved.\n",
            "Frame 200 saved.\n",
            "Frame 201 saved.\n",
            "Frame 202 saved.\n",
            "Frame 203 saved.\n",
            "Frame 204 saved.\n",
            "Frame 205 saved.\n",
            "Frame 206 saved.\n",
            "Frame 207 saved.\n",
            "Frame 208 saved.\n"
          ]
        }
      ],
      "source": [
        "# Step 1: Displaying the video\n",
        "print(\"Step 1: Displaying the video\")\n",
        "# select file\n",
        "print(\"Selecting the video\")\n",
        "file_name = \"alpinist1.mp4\" # Enter the name of the video file to process here\n",
        "print(f\"Video: {file_name}\")\n",
        "\n",
        "# Downloading video\n",
        "print(\"2.Downloading video: downloading from GitHub\")\n",
        "directory = \"Chapter10/videos\"\n",
        "download(directory,file_name)\n",
        "\n",
        "# Displaying video\n",
        "print(\"2.Downloading video: displaying video\")\n",
        "display_video(file_name)\n",
        "\n",
        "# Step 2.Splitting video\n",
        "print(\"Splitting the video\")\n",
        "split_file(file_name)"
      ]
    },
    {
      "cell_type": "code",
      "execution_count": null,
      "metadata": {
        "colab": {
          "base_uri": "https://localhost:8080/"
        },
        "collapsed": true,
        "id": "8iikBBsOT9xV",
        "outputId": "411acfd3-6bf3-47f9-cf33-911b3cd19619"
      },
      "outputs": [
        {
          "name": "stdout",
          "output_type": "stream",
          "text": [
            "Commenting video: creating comments\n",
            "Analyzing frame 2...\n",
            "Analyzing frame 5...\n",
            "Analyzing frame 8...\n",
            "Analyzing frame 11...\n",
            "Analyzing frame 14...\n",
            "Analyzing frame 17...\n",
            "Analyzing frame 20...\n",
            "Analyzing frame 23...\n",
            "Analyzing frame 26...\n",
            "Analyzing frame 29...\n",
            "Analyzing frame 32...\n",
            "Analyzing frame 35...\n",
            "Analyzing frame 38...\n",
            "Analyzing frame 41...\n",
            "Analyzing frame 44...\n",
            "Analyzing frame 47...\n",
            "Analyzing frame 50...\n",
            "Analyzing frame 53...\n",
            "Analyzing frame 56...\n",
            "Analyzing frame 59...\n",
            "Analyzing frame 62...\n",
            "Analyzing frame 65...\n",
            "Analyzing frame 68...\n",
            "Analyzing frame 71...\n",
            "Analyzing frame 74...\n",
            "Analyzing frame 77...\n",
            "Analyzing frame 80...\n",
            "Analyzing frame 83...\n",
            "Analyzing frame 86...\n",
            "Analyzing frame 89...\n",
            "Analyzing frame 92...\n",
            "Analyzing frame 95...\n",
            "Analyzing frame 98...\n",
            "Analyzing frame 101...\n",
            "Analyzing frame 104...\n",
            "Analyzing frame 107...\n",
            "Analyzing frame 110...\n",
            "Analyzing frame 113...\n",
            "Analyzing frame 116...\n",
            "Analyzing frame 119...\n",
            "Analyzing frame 122...\n",
            "Analyzing frame 125...\n",
            "Analyzing frame 128...\n",
            "Analyzing frame 131...\n",
            "Analyzing frame 134...\n",
            "Analyzing frame 137...\n",
            "Analyzing frame 140...\n",
            "Analyzing frame 143...\n",
            "Analyzing frame 146...\n",
            "Analyzing frame 149...\n",
            "Analyzing frame 152...\n",
            "Analyzing frame 155...\n",
            "Analyzing frame 158...\n",
            "Analyzing frame 161...\n",
            "Analyzing frame 164...\n",
            "Analyzing frame 167...\n",
            "Analyzing frame 170...\n",
            "Analyzing frame 173...\n",
            "Analyzing frame 176...\n",
            "Analyzing frame 179...\n",
            "Analyzing frame 182...\n",
            "Analyzing frame 185...\n",
            "Analyzing frame 188...\n",
            "Analyzing frame 191...\n",
            "Analyzing frame 194...\n",
            "Analyzing frame 197...\n",
            "Analyzing frame 200...\n",
            "Analyzing frame 203...\n",
            "Analyzing frame 206...\n",
            "208\n",
            "Commenting video: displaying comments\n",
            "Total Time: 454.62 seconds\n"
          ]
        }
      ],
      "source": [
        "# Step 3.Commenting the video\n",
        "print(\"Commenting video: creating comments\")\n",
        "start_time = time.time()  # Start timing before the request\n",
        "\n",
        "generate_openai_comments(file_name)\n",
        "\n",
        "total_time = time.time() - start_time  # Start timing before the request\n",
        "\n",
        "# Display number of frames\n",
        "video_folder = \"/content\"  # Folder containing your image frames\n",
        "total_frames = len([file for file in os.listdir(video_folder) if file.endswith('.jpg')])\n",
        "print(total_frames)\n",
        "\n",
        "# Display comments\n",
        "print(\"Commenting video: displaying comments\")\n",
        "display_comments(file_name)\n",
        "\n",
        "print(f\"Total Time: {total_time:.2f} seconds\")  # Print response time"
      ]
    },
    {
      "cell_type": "markdown",
      "metadata": {
        "id": "KyZP6l5kgAG7"
      },
      "source": [
        "## Saving comments and frames"
      ]
    },
    {
      "cell_type": "code",
      "execution_count": null,
      "metadata": {
        "id": "sdOPFwjMQQ-F"
      },
      "outputs": [],
      "source": [
        "# Ensure the file exists and double checking before saving the comments\n",
        "save=False        # double checking before saving the comments\n",
        "save_frames=False # double checking before saving the frames"
      ]
    },
    {
      "cell_type": "code",
      "execution_count": null,
      "metadata": {
        "id": "JyYINig1ANjE"
      },
      "outputs": [],
      "source": [
        "# Save comments\n",
        "if save==True:  # double checking before saving the comments\n",
        "  # Append .csv to the provided file name to create the complete file name\n",
        "  cpath = f\"{file_name}.csv\"\n",
        "  if os.path.exists(cpath):\n",
        "      # Use the Python variable 'path' correctly in the shell command\n",
        "      !cp {cpath} /content/drive/MyDrive/files/comments/{cpath}\n",
        "      print(f\"File {cpath} copied successfully.\")\n",
        "  else:\n",
        "      print(f\"No such file: {cpath}\")"
      ]
    },
    {
      "cell_type": "code",
      "execution_count": null,
      "metadata": {
        "id": "uuMRjgt7OOhP"
      },
      "outputs": [],
      "source": [
        "# Save frames\n",
        "import shutil\n",
        "if save_frames==True:\n",
        "  # Extract the root name by removing the extension\n",
        "  root_name, extension = os.path.splitext(file_name)\n",
        "\n",
        "  # This removes the period from the extension\n",
        "  root_name = root_name + extension.strip('.')\n",
        "\n",
        "  # Path where you want to copy the jpg files\n",
        "  target_directory = f'/content/drive/MyDrive/files/comments/{root_name}'\n",
        "\n",
        "  # Ensure the directory exists\n",
        "  os.makedirs(target_directory, exist_ok=True)\n",
        "\n",
        "  # Assume your jpg files are in the current directory. Modify this as needed\n",
        "  source_directory = os.getcwd()  # or specify a different directory\n",
        "\n",
        "  # List all jpg files in the source directory\n",
        "  for file in os.listdir(source_directory):\n",
        "      if file.endswith('.jpg'):\n",
        "        shutil.copy(os.path.join(source_directory, file), target_directory)"
      ]
    },
    {
      "cell_type": "markdown",
      "metadata": {
        "id": "bKUKbSMggESp"
      },
      "source": [
        "## Deleting files"
      ]
    },
    {
      "cell_type": "code",
      "execution_count": null,
      "metadata": {
        "id": "dO5SfLMLi_n9"
      },
      "outputs": [],
      "source": [
        "delf=False     # double checking before deleting the files in a session\n",
        "if delf==True:\n",
        "  !rm -f *.mp4 # video files\n",
        "  !rm -f *.jpg # frames\n",
        "  !rm -f *.csv # comments"
      ]
    }
  ],
  "metadata": {
    "colab": {
      "collapsed_sections": [
        "GrGaTu7CXXj_"
      ],
      "provenance": [],
      "toc_visible": true
    },
    "kernelspec": {
      "display_name": "Python 3",
      "name": "python3"
    },
    "language_info": {
      "name": "python"
    }
  },
  "nbformat": 4,
  "nbformat_minor": 0
}
